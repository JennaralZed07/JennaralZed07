{
  "nbformat": 4,
  "nbformat_minor": 0,
  "metadata": {
    "colab": {
      "provenance": [],
      "authorship_tag": "ABX9TyPzvWHswpA4aCnEntfHWkQZ",
      "include_colab_link": true
    },
    "kernelspec": {
      "name": "python3",
      "display_name": "Python 3"
    },
    "language_info": {
      "name": "python"
    }
  },
  "cells": [
    {
      "cell_type": "markdown",
      "metadata": {
        "id": "view-in-github",
        "colab_type": "text"
      },
      "source": [
        "<a href=\"https://colab.research.google.com/github/JennaralZed07/JennaralZed07/blob/main/PythonCrashCourse3.ipynb\" target=\"_parent\"><img src=\"https://colab.research.google.com/assets/colab-badge.svg\" alt=\"Open In Colab\"/></a>"
      ]
    },
    {
      "cell_type": "markdown",
      "source": [
        "This notebook is working with:\n",
        "\n",
        "Python Crash Course 3rd Edition (ISBN-13: 978-1-7185-0270-3 [link text](https://nostarch.com/python-crash-course-3rd-edition) (print))  by Eric Matthes\n",
        "\n",
        "Also uses https://github.com/ehmatthes/pcc_3e resources shared in the book."
      ],
      "metadata": {
        "id": "uMNI7qit7ENG"
      }
    },
    {
      "cell_type": "markdown",
      "source": [
        "# Chapter 2: Variable and Simple Data Types\n",
        "### Changing String Case methods\n",
        "`.upper()` `.lower()` and `.title()`"
      ],
      "metadata": {
        "id": "omML5vxX9YcU"
      }
    },
    {
      "cell_type": "code",
      "source": [
        "name = 'jen zed'\n",
        "first_name = 'jen'\n",
        "last_name = 'zed'\n",
        "full_name = f\"{first_name} {last_name}\"\n",
        "print(\"Name variable w/o manipulation: \", name)\n",
        "print(\"upper(): \", name.upper())\n",
        "print(\"lower(): \", name.lower())\n",
        "print(\"title(): \", name.title())\n",
        "print(\"Full name w/o manipulation: \", full_name)\n",
        "print(\"title(): \", full_name.title())"
      ],
      "metadata": {
        "colab": {
          "base_uri": "https://localhost:8080/"
        },
        "id": "lIDnfprr7tJO",
        "outputId": "a19317fe-8695-424a-9a58-c0cd243a149e"
      },
      "execution_count": 4,
      "outputs": [
        {
          "output_type": "stream",
          "name": "stdout",
          "text": [
            "Name variable w/o manipulation:  jen zed\n",
            "upper():  JEN ZED\n",
            "lower():  jen zed\n",
            "title():  Jen Zed\n",
            "Full name w/o manipulation:  jen zed\n",
            "title():  Jen Zed\n"
          ]
        }
      ]
    },
    {
      "cell_type": "markdown",
      "source": [
        "## `f-strings`\n",
        "f-strings will use the value of the variable"
      ],
      "metadata": {
        "id": "fSbwB-q_-ku9"
      }
    },
    {
      "cell_type": "code",
      "source": [
        "print(f\"Welcome, {full_name.title()}!\")"
      ],
      "metadata": {
        "colab": {
          "base_uri": "https://localhost:8080/"
        },
        "id": "JqGa0jKf_q1K",
        "outputId": "0f259bed-162a-4f04-e137-a0706b74de8e"
      },
      "execution_count": 6,
      "outputs": [
        {
          "output_type": "stream",
          "name": "stdout",
          "text": [
            "Welcome, Jen Zed!\n"
          ]
        }
      ]
    },
    {
      "cell_type": "code",
      "source": [
        "guest_first_name = input(\"What's your first name?\")\n",
        "guest_last_name = input(\"What's your last name?\")\n",
        "guest_full_name = f\"{guest_first_name} {guest_last_name}\"\n",
        "print(f\"Welcome, {guest_full_name.title()}\")"
      ],
      "metadata": {
        "colab": {
          "base_uri": "https://localhost:8080/"
        },
        "id": "bu5sunnIAJD1",
        "outputId": "e2e61696-aa0a-4b79-fdd8-801873b8dca8"
      },
      "execution_count": 7,
      "outputs": [
        {
          "output_type": "stream",
          "name": "stdout",
          "text": [
            "What's your first name?Bob\n",
            "What's your last name?Blob\n",
            "Welcome, Bob Blob\n"
          ]
        }
      ]
    }
  ]
}